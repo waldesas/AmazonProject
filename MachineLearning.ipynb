{
 "cells": [
  {
   "cell_type": "markdown",
   "id": "adafa3a4-4189-433d-8325-799f3bbc1bf8",
   "metadata": {},
   "source": [
    "## Machine Learning:"
   ]
  },
  {
   "cell_type": "code",
   "execution_count": 1,
   "id": "9ce99650-0ff8-480c-8e81-494d653b943a",
   "metadata": {},
   "outputs": [
    {
     "name": "stdout",
     "output_type": "stream",
     "text": [
      "Import completed.\n"
     ]
    }
   ],
   "source": [
    "#import libraries\n",
    "import numpy as np\n",
    "import pandas as pd\n",
    "import tensorflow as tf\n",
    "from tensorflow.keras import layers # Keras acts as an interface for TensorFlow.\n",
    "from matplotlib import pyplot as plt\n",
    "import seaborn as sns\n",
    "from sklearn.model_selection import train_test_split\n",
    "import datetime as datetime\n",
    "import time\n",
    "\n",
    "print(\"Import completed.\")"
   ]
  },
  {
   "cell_type": "markdown",
   "id": "2b286327-a2d4-4630-8f12-db29b13873a0",
   "metadata": {},
   "source": [
    "#### 1.) Load the training and test dataset:"
   ]
  },
  {
   "cell_type": "code",
   "execution_count": 2,
   "id": "20e98c78-9b92-4663-866b-6f445bf6b0e5",
   "metadata": {},
   "outputs": [],
   "source": [
    "#train= pd.read_csv('cleanbooksdata.csv', encoding='utf-8')\n",
    "train = pd.read_csv('cleanbooksdata.csv')"
   ]
  },
  {
   "cell_type": "code",
   "execution_count": 3,
   "id": "b250049e-c7b7-49c9-ab39-b84148c576b6",
   "metadata": {},
   "outputs": [],
   "source": [
    "# Bleibt: rating, num_ratings, price, type, das Jahr\n",
    "train = train.drop(['title', 'currency', 'author'], axis=1)\n",
    "train = train.drop(train.columns[0], axis=1)"
   ]
  },
  {
   "cell_type": "code",
   "execution_count": 4,
   "id": "c2f4e764-f16b-4a4e-b24e-72ee5a5eaf1a",
   "metadata": {},
   "outputs": [
    {
     "data": {
      "text/html": [
       "<div>\n",
       "<style scoped>\n",
       "    .dataframe tbody tr th:only-of-type {\n",
       "        vertical-align: middle;\n",
       "    }\n",
       "\n",
       "    .dataframe tbody tr th {\n",
       "        vertical-align: top;\n",
       "    }\n",
       "\n",
       "    .dataframe thead th {\n",
       "        text-align: right;\n",
       "    }\n",
       "</style>\n",
       "<table border=\"1\" class=\"dataframe\">\n",
       "  <thead>\n",
       "    <tr style=\"text-align: right;\">\n",
       "      <th></th>\n",
       "      <th>rating</th>\n",
       "      <th>num_ratings</th>\n",
       "      <th>price</th>\n",
       "      <th>date</th>\n",
       "      <th>booktype</th>\n",
       "    </tr>\n",
       "  </thead>\n",
       "  <tbody>\n",
       "    <tr>\n",
       "      <th>0</th>\n",
       "      <td>4.7</td>\n",
       "      <td>67538.0</td>\n",
       "      <td>20.41</td>\n",
       "      <td>10. Dezember 2018</td>\n",
       "      <td>0</td>\n",
       "    </tr>\n",
       "    <tr>\n",
       "      <th>1</th>\n",
       "      <td>4.5</td>\n",
       "      <td>8627.0</td>\n",
       "      <td>11.49</td>\n",
       "      <td>5. Februar 2013</td>\n",
       "      <td>1</td>\n",
       "    </tr>\n",
       "    <tr>\n",
       "      <th>2</th>\n",
       "      <td>4.5</td>\n",
       "      <td>99055.0</td>\n",
       "      <td>12.44</td>\n",
       "      <td>13. September 2016</td>\n",
       "      <td>0</td>\n",
       "    </tr>\n",
       "    <tr>\n",
       "      <th>3</th>\n",
       "      <td>4.6</td>\n",
       "      <td>33078.0</td>\n",
       "      <td>11.49</td>\n",
       "      <td>10. Mai 2012</td>\n",
       "      <td>0</td>\n",
       "    </tr>\n",
       "    <tr>\n",
       "      <th>4</th>\n",
       "      <td>4.6</td>\n",
       "      <td>22039.0</td>\n",
       "      <td>5.69</td>\n",
       "      <td>23. März 2017</td>\n",
       "      <td>0</td>\n",
       "    </tr>\n",
       "    <tr>\n",
       "      <th>...</th>\n",
       "      <td>...</td>\n",
       "      <td>...</td>\n",
       "      <td>...</td>\n",
       "      <td>...</td>\n",
       "      <td>...</td>\n",
       "    </tr>\n",
       "    <tr>\n",
       "      <th>81</th>\n",
       "      <td>4.4</td>\n",
       "      <td>1478.0</td>\n",
       "      <td>10.54</td>\n",
       "      <td>15. April 2019</td>\n",
       "      <td>0</td>\n",
       "    </tr>\n",
       "    <tr>\n",
       "      <th>82</th>\n",
       "      <td>4.3</td>\n",
       "      <td>6049.0</td>\n",
       "      <td>1.98</td>\n",
       "      <td>29. November 2004</td>\n",
       "      <td>0</td>\n",
       "    </tr>\n",
       "    <tr>\n",
       "      <th>83</th>\n",
       "      <td>4.7</td>\n",
       "      <td>24188.0</td>\n",
       "      <td>10.24</td>\n",
       "      <td>4. Januar 2018</td>\n",
       "      <td>0</td>\n",
       "    </tr>\n",
       "    <tr>\n",
       "      <th>84</th>\n",
       "      <td>4.6</td>\n",
       "      <td>37461.0</td>\n",
       "      <td>7.77</td>\n",
       "      <td>22. Mai 2012</td>\n",
       "      <td>0</td>\n",
       "    </tr>\n",
       "    <tr>\n",
       "      <th>85</th>\n",
       "      <td>4.5</td>\n",
       "      <td>13319.0</td>\n",
       "      <td>13.40</td>\n",
       "      <td>12. März 2020</td>\n",
       "      <td>0</td>\n",
       "    </tr>\n",
       "  </tbody>\n",
       "</table>\n",
       "<p>86 rows × 5 columns</p>\n",
       "</div>"
      ],
      "text/plain": [
       "    rating  num_ratings  price                date  booktype\n",
       "0      4.7      67538.0  20.41   10. Dezember 2018         0\n",
       "1      4.5       8627.0  11.49     5. Februar 2013         1\n",
       "2      4.5      99055.0  12.44  13. September 2016         0\n",
       "3      4.6      33078.0  11.49        10. Mai 2012         0\n",
       "4      4.6      22039.0   5.69       23. März 2017         0\n",
       "..     ...          ...    ...                 ...       ...\n",
       "81     4.4       1478.0  10.54      15. April 2019         0\n",
       "82     4.3       6049.0   1.98   29. November 2004         0\n",
       "83     4.7      24188.0  10.24      4. Januar 2018         0\n",
       "84     4.6      37461.0   7.77        22. Mai 2012         0\n",
       "85     4.5      13319.0  13.40       12. März 2020         0\n",
       "\n",
       "[86 rows x 5 columns]"
      ]
     },
     "metadata": {},
     "output_type": "display_data"
    }
   ],
   "source": [
    "#Für die Vorhersage wird 0 und 1 für die Werte gesetzt: Taschenbuch = 0, Gebundenes Buch = 1 \n",
    "train['type'] = train['type'].str.replace('Taschenbuch', '0')\n",
    "train['type'] = train['type'].str.replace('Gebundenes Buch', '1')\n",
    "train['booktype'] = train['type'].astype(object).astype(int)\n",
    "train = train.drop('type', axis=1)\n",
    "display(train)"
   ]
  },
  {
   "cell_type": "code",
   "execution_count": 5,
   "id": "53a0d71d-4727-4ff0-82b1-43d98ede2c6e",
   "metadata": {},
   "outputs": [],
   "source": [
    "# Define a list of month names in German\n",
    "month_names = ['Januar', 'Februar', 'März', 'April', 'Mai', 'Juni', \n",
    "               'Juli', 'August', 'September', 'Oktober', 'November', 'Dezember']\n",
    "\n",
    "# Define a function to convert German date string to datetime object\n",
    "def german_date_to_datetime(date_string):\n",
    "    # Split the date string into day, month, and year\n",
    "        day, month_name, year = date_string.split()\n",
    "    # Remove any trailing dot from the day component\n",
    "        day = day.rstrip('.')\n",
    "    # Convert the month name to its corresponding month number\n",
    "        month = month_names.index(month_name) + 1\n",
    "    # Create a datetime object from the day, month, and year\n",
    "        return datetime.datetime(int(year), month, int(day))\n",
    "        \n",
    "\n",
    "# Apply the function to the \"datum\" column of the DataFrame\n",
    "train['date'] = train['date'].apply(german_date_to_datetime)\n"
   ]
  },
  {
   "cell_type": "code",
   "execution_count": 6,
   "id": "15aed5fb-ef86-4a7e-b9b5-98ef0924ebf8",
   "metadata": {},
   "outputs": [],
   "source": [
    "train['date'] = train['date'].dt.year"
   ]
  },
  {
   "cell_type": "code",
   "execution_count": 7,
   "id": "87bf58c4-1f13-4a82-8493-c0c33842cbb6",
   "metadata": {},
   "outputs": [
    {
     "data": {
      "text/html": [
       "<div>\n",
       "<style scoped>\n",
       "    .dataframe tbody tr th:only-of-type {\n",
       "        vertical-align: middle;\n",
       "    }\n",
       "\n",
       "    .dataframe tbody tr th {\n",
       "        vertical-align: top;\n",
       "    }\n",
       "\n",
       "    .dataframe thead th {\n",
       "        text-align: right;\n",
       "    }\n",
       "</style>\n",
       "<table border=\"1\" class=\"dataframe\">\n",
       "  <thead>\n",
       "    <tr style=\"text-align: right;\">\n",
       "      <th></th>\n",
       "      <th>rating</th>\n",
       "      <th>num_ratings</th>\n",
       "      <th>price</th>\n",
       "      <th>date</th>\n",
       "      <th>booktype</th>\n",
       "    </tr>\n",
       "  </thead>\n",
       "  <tbody>\n",
       "    <tr>\n",
       "      <th>0</th>\n",
       "      <td>4.7</td>\n",
       "      <td>67538.0</td>\n",
       "      <td>20.41</td>\n",
       "      <td>2018</td>\n",
       "      <td>0</td>\n",
       "    </tr>\n",
       "    <tr>\n",
       "      <th>1</th>\n",
       "      <td>4.5</td>\n",
       "      <td>8627.0</td>\n",
       "      <td>11.49</td>\n",
       "      <td>2013</td>\n",
       "      <td>1</td>\n",
       "    </tr>\n",
       "    <tr>\n",
       "      <th>2</th>\n",
       "      <td>4.5</td>\n",
       "      <td>99055.0</td>\n",
       "      <td>12.44</td>\n",
       "      <td>2016</td>\n",
       "      <td>0</td>\n",
       "    </tr>\n",
       "    <tr>\n",
       "      <th>3</th>\n",
       "      <td>4.6</td>\n",
       "      <td>33078.0</td>\n",
       "      <td>11.49</td>\n",
       "      <td>2012</td>\n",
       "      <td>0</td>\n",
       "    </tr>\n",
       "    <tr>\n",
       "      <th>4</th>\n",
       "      <td>4.6</td>\n",
       "      <td>22039.0</td>\n",
       "      <td>5.69</td>\n",
       "      <td>2017</td>\n",
       "      <td>0</td>\n",
       "    </tr>\n",
       "    <tr>\n",
       "      <th>...</th>\n",
       "      <td>...</td>\n",
       "      <td>...</td>\n",
       "      <td>...</td>\n",
       "      <td>...</td>\n",
       "      <td>...</td>\n",
       "    </tr>\n",
       "    <tr>\n",
       "      <th>81</th>\n",
       "      <td>4.4</td>\n",
       "      <td>1478.0</td>\n",
       "      <td>10.54</td>\n",
       "      <td>2019</td>\n",
       "      <td>0</td>\n",
       "    </tr>\n",
       "    <tr>\n",
       "      <th>82</th>\n",
       "      <td>4.3</td>\n",
       "      <td>6049.0</td>\n",
       "      <td>1.98</td>\n",
       "      <td>2004</td>\n",
       "      <td>0</td>\n",
       "    </tr>\n",
       "    <tr>\n",
       "      <th>83</th>\n",
       "      <td>4.7</td>\n",
       "      <td>24188.0</td>\n",
       "      <td>10.24</td>\n",
       "      <td>2018</td>\n",
       "      <td>0</td>\n",
       "    </tr>\n",
       "    <tr>\n",
       "      <th>84</th>\n",
       "      <td>4.6</td>\n",
       "      <td>37461.0</td>\n",
       "      <td>7.77</td>\n",
       "      <td>2012</td>\n",
       "      <td>0</td>\n",
       "    </tr>\n",
       "    <tr>\n",
       "      <th>85</th>\n",
       "      <td>4.5</td>\n",
       "      <td>13319.0</td>\n",
       "      <td>13.40</td>\n",
       "      <td>2020</td>\n",
       "      <td>0</td>\n",
       "    </tr>\n",
       "  </tbody>\n",
       "</table>\n",
       "<p>86 rows × 5 columns</p>\n",
       "</div>"
      ],
      "text/plain": [
       "    rating  num_ratings  price  date  booktype\n",
       "0      4.7      67538.0  20.41  2018         0\n",
       "1      4.5       8627.0  11.49  2013         1\n",
       "2      4.5      99055.0  12.44  2016         0\n",
       "3      4.6      33078.0  11.49  2012         0\n",
       "4      4.6      22039.0   5.69  2017         0\n",
       "..     ...          ...    ...   ...       ...\n",
       "81     4.4       1478.0  10.54  2019         0\n",
       "82     4.3       6049.0   1.98  2004         0\n",
       "83     4.7      24188.0  10.24  2018         0\n",
       "84     4.6      37461.0   7.77  2012         0\n",
       "85     4.5      13319.0  13.40  2020         0\n",
       "\n",
       "[86 rows x 5 columns]"
      ]
     },
     "metadata": {},
     "output_type": "display_data"
    }
   ],
   "source": [
    "display(train)"
   ]
  },
  {
   "cell_type": "code",
   "execution_count": 8,
   "id": "e4cee09c-c7e2-463d-8e9b-091c49882ad1",
   "metadata": {},
   "outputs": [],
   "source": [
    "train['age'] = 2023 - (train['date'])\n",
    "train = train.drop(['date'], axis=1)"
   ]
  },
  {
   "cell_type": "code",
   "execution_count": 9,
   "id": "3fbbf946-6e02-456c-a279-157b8c314781",
   "metadata": {},
   "outputs": [
    {
     "name": "stdout",
     "output_type": "stream",
     "text": [
      "   rating  num_ratings  price  booktype  age\n",
      "0     4.7      67538.0  20.41         0    5\n",
      "1     4.5       8627.0  11.49         1   10\n",
      "2     4.5      99055.0  12.44         0    7\n",
      "3     4.6      33078.0  11.49         0   11\n",
      "4     4.6      22039.0   5.69         0    6\n"
     ]
    }
   ],
   "source": [
    "# Print the first 5 rows of the DataFrame to confirm the conversion\n",
    "print(train.head())"
   ]
  },
  {
   "cell_type": "code",
   "execution_count": 10,
   "id": "34c205bf-8a71-4244-a214-c11e056c372a",
   "metadata": {},
   "outputs": [
    {
     "name": "stdout",
     "output_type": "stream",
     "text": [
      "<class 'pandas.core.frame.DataFrame'>\n",
      "RangeIndex: 86 entries, 0 to 85\n",
      "Data columns (total 5 columns):\n",
      " #   Column       Non-Null Count  Dtype  \n",
      "---  ------       --------------  -----  \n",
      " 0   rating       86 non-null     float64\n",
      " 1   num_ratings  86 non-null     float64\n",
      " 2   price        86 non-null     float64\n",
      " 3   booktype     86 non-null     int32  \n",
      " 4   age          86 non-null     int64  \n",
      "dtypes: float64(3), int32(1), int64(1)\n",
      "memory usage: 3.1 KB\n"
     ]
    }
   ],
   "source": [
    "train.info()"
   ]
  },
  {
   "cell_type": "code",
   "execution_count": 11,
   "id": "590ea311-697e-469a-ae74-1ace7f5a009f",
   "metadata": {},
   "outputs": [
    {
     "name": "stdout",
     "output_type": "stream",
     "text": [
      "Training data shape: (68, 5)\n",
      "Testing data shape: (18, 5)\n"
     ]
    }
   ],
   "source": [
    "# Split the dataset into training and testing sets\n",
    "train_data, test_data = train_test_split(train, test_size=0.2, random_state=42)\n",
    "\n",
    "# Print the shape of the training and testing sets\n",
    "print(\"Training data shape:\", train_data.shape)\n",
    "print(\"Testing data shape:\", test_data.shape)"
   ]
  },
  {
   "cell_type": "markdown",
   "id": "7703f3a4-f24e-4306-8502-f39cbdfd7874",
   "metadata": {},
   "source": [
    "#### Standardisation (weil wir jetzt wegen dem Preis als Zielvariable linear regression haben):"
   ]
  },
  {
   "cell_type": "code",
   "execution_count": 12,
   "id": "72a0388c-f9e5-4583-b004-b2590e0843b6",
   "metadata": {},
   "outputs": [
    {
     "data": {
      "text/html": [
       "<div>\n",
       "<style scoped>\n",
       "    .dataframe tbody tr th:only-of-type {\n",
       "        vertical-align: middle;\n",
       "    }\n",
       "\n",
       "    .dataframe tbody tr th {\n",
       "        vertical-align: top;\n",
       "    }\n",
       "\n",
       "    .dataframe thead th {\n",
       "        text-align: right;\n",
       "    }\n",
       "</style>\n",
       "<table border=\"1\" class=\"dataframe\">\n",
       "  <thead>\n",
       "    <tr style=\"text-align: right;\">\n",
       "      <th></th>\n",
       "      <th>rating</th>\n",
       "      <th>num_ratings</th>\n",
       "      <th>price</th>\n",
       "      <th>booktype</th>\n",
       "      <th>age</th>\n",
       "    </tr>\n",
       "  </thead>\n",
       "  <tbody>\n",
       "    <tr>\n",
       "      <th>54</th>\n",
       "      <td>4.6</td>\n",
       "      <td>3790.0</td>\n",
       "      <td>9.47</td>\n",
       "      <td>0</td>\n",
       "      <td>8</td>\n",
       "    </tr>\n",
       "    <tr>\n",
       "      <th>72</th>\n",
       "      <td>4.4</td>\n",
       "      <td>22511.0</td>\n",
       "      <td>11.30</td>\n",
       "      <td>0</td>\n",
       "      <td>8</td>\n",
       "    </tr>\n",
       "    <tr>\n",
       "      <th>11</th>\n",
       "      <td>4.5</td>\n",
       "      <td>17535.0</td>\n",
       "      <td>11.86</td>\n",
       "      <td>0</td>\n",
       "      <td>21</td>\n",
       "    </tr>\n",
       "    <tr>\n",
       "      <th>30</th>\n",
       "      <td>4.7</td>\n",
       "      <td>64560.0</td>\n",
       "      <td>10.05</td>\n",
       "      <td>0</td>\n",
       "      <td>6</td>\n",
       "    </tr>\n",
       "    <tr>\n",
       "      <th>40</th>\n",
       "      <td>4.6</td>\n",
       "      <td>24826.0</td>\n",
       "      <td>9.38</td>\n",
       "      <td>0</td>\n",
       "      <td>7</td>\n",
       "    </tr>\n",
       "    <tr>\n",
       "      <th>...</th>\n",
       "      <td>...</td>\n",
       "      <td>...</td>\n",
       "      <td>...</td>\n",
       "      <td>...</td>\n",
       "      <td>...</td>\n",
       "    </tr>\n",
       "    <tr>\n",
       "      <th>20</th>\n",
       "      <td>4.3</td>\n",
       "      <td>16899.0</td>\n",
       "      <td>14.74</td>\n",
       "      <td>0</td>\n",
       "      <td>11</td>\n",
       "    </tr>\n",
       "    <tr>\n",
       "      <th>60</th>\n",
       "      <td>4.6</td>\n",
       "      <td>62605.0</td>\n",
       "      <td>9.30</td>\n",
       "      <td>1</td>\n",
       "      <td>5</td>\n",
       "    </tr>\n",
       "    <tr>\n",
       "      <th>71</th>\n",
       "      <td>4.7</td>\n",
       "      <td>12422.0</td>\n",
       "      <td>18.15</td>\n",
       "      <td>0</td>\n",
       "      <td>6</td>\n",
       "    </tr>\n",
       "    <tr>\n",
       "      <th>14</th>\n",
       "      <td>4.4</td>\n",
       "      <td>22051.0</td>\n",
       "      <td>8.54</td>\n",
       "      <td>0</td>\n",
       "      <td>30</td>\n",
       "    </tr>\n",
       "    <tr>\n",
       "      <th>51</th>\n",
       "      <td>4.5</td>\n",
       "      <td>57586.0</td>\n",
       "      <td>9.09</td>\n",
       "      <td>0</td>\n",
       "      <td>6</td>\n",
       "    </tr>\n",
       "  </tbody>\n",
       "</table>\n",
       "<p>68 rows × 5 columns</p>\n",
       "</div>"
      ],
      "text/plain": [
       "    rating  num_ratings  price  booktype  age\n",
       "54     4.6       3790.0   9.47         0    8\n",
       "72     4.4      22511.0  11.30         0    8\n",
       "11     4.5      17535.0  11.86         0   21\n",
       "30     4.7      64560.0  10.05         0    6\n",
       "40     4.6      24826.0   9.38         0    7\n",
       "..     ...          ...    ...       ...  ...\n",
       "20     4.3      16899.0  14.74         0   11\n",
       "60     4.6      62605.0   9.30         1    5\n",
       "71     4.7      12422.0  18.15         0    6\n",
       "14     4.4      22051.0   8.54         0   30\n",
       "51     4.5      57586.0   9.09         0    6\n",
       "\n",
       "[68 rows x 5 columns]"
      ]
     },
     "execution_count": 12,
     "metadata": {},
     "output_type": "execute_result"
    }
   ],
   "source": [
    "train_data\n",
    "#scaling\n",
    "#unnötige Spalten bereinigen => csak számok maradjanak\n",
    "#NN kann nur Zahlen\n",
    "#normalizáció/standardizáció => mindegy melyik\n",
    "#datumformátum (datetime) => extract year as integer in pandas // ChatGPT-t kérdezni => 2023-ból kivonni az évet, megkapom az öregségét a könyvnek\n",
    "# min-max Scaler für num. Daten\n",
    "# "
   ]
  },
  {
   "cell_type": "code",
   "execution_count": 13,
   "id": "41bab25a-66d3-4a71-9e4c-eeed0a2ffaf8",
   "metadata": {},
   "outputs": [
    {
     "name": "stdout",
     "output_type": "stream",
     "text": [
      "The data points have been standardized.\n"
     ]
    }
   ],
   "source": [
    "# Standardize the remaining columns\n",
    "train_data_mean = train_data.mean()\n",
    "train_data_std = train_data.std()\n",
    "train_data_stand = (train_data - train_data_mean) / train_data_std\n",
    "\n",
    "test_data_mean = test_data.mean()\n",
    "test_data_std = test_data.std()\n",
    "test_data_stand = (test_data - test_data_mean) / test_data_std\n",
    "\n",
    "print(\"The data points have been standardized.\")"
   ]
  },
  {
   "cell_type": "markdown",
   "id": "ee848562-1716-45e4-b5be-b1a422ba0386",
   "metadata": {},
   "source": [
    "#### Features und Zielvariable bestimmen:\n",
    "Features: Ratings, Number of Ratings, Type, (Seitenanzahl, Version, Erscheinungsdatum)\n",
    "\n",
    "Zielvariable: Preis"
   ]
  },
  {
   "cell_type": "code",
   "execution_count": 14,
   "id": "9090e3e1-1b82-495a-82bd-3a774b498352",
   "metadata": {},
   "outputs": [],
   "source": [
    "# Create an empty list that will eventually hold all created feature columns.\n",
    "feature_columns = []"
   ]
  },
  {
   "cell_type": "code",
   "execution_count": 15,
   "id": "bf774a83-7399-41b8-afd2-6a82fc25b43a",
   "metadata": {},
   "outputs": [],
   "source": [
    "# Represent rating as a floating-point value.\n",
    "rating = tf.feature_column.numeric_column(\"rating\")\n",
    "feature_columns.append(rating)"
   ]
  },
  {
   "cell_type": "code",
   "execution_count": 16,
   "id": "b4b352a6-09a3-48fd-ae3d-f3ad6b93cc1d",
   "metadata": {},
   "outputs": [],
   "source": [
    "# Represent rating as a floating-point value.\n",
    "num_ratings = tf.feature_column.numeric_column(\"num_ratings\")\n",
    "feature_columns.append(num_ratings)"
   ]
  },
  {
   "cell_type": "code",
   "execution_count": 17,
   "id": "0d303f53-a3ff-4b8b-aab8-7ab315524fff",
   "metadata": {},
   "outputs": [],
   "source": [
    "# Represent type as a floating-point value.\n",
    "booktype = tf.feature_column.numeric_column(\"booktype\")\n",
    "feature_columns.append(booktype)"
   ]
  },
  {
   "cell_type": "code",
   "execution_count": 18,
   "id": "99cf4e14-66be-48d0-9197-81633eca97bb",
   "metadata": {},
   "outputs": [],
   "source": [
    "# Represent age as a floating-point value.\n",
    "age = tf.feature_column.numeric_column(\"age\")\n",
    "feature_columns.append(age)"
   ]
  },
  {
   "cell_type": "code",
   "execution_count": 19,
   "id": "5dfcebda-e3a3-4f1e-aa09-0123c8737b4b",
   "metadata": {},
   "outputs": [],
   "source": [
    "# Convert the list of feature columns into a layer that will later be fed into the model. \n",
    "my_feature_layer = tf.keras.layers.DenseFeatures(feature_columns)"
   ]
  },
  {
   "cell_type": "markdown",
   "id": "47db0e43-2913-4725-bab9-e914f1fbaf02",
   "metadata": {},
   "source": [
    "#### Let us define the basic functions to create and train a linear regression model"
   ]
  },
  {
   "cell_type": "code",
   "execution_count": 20,
   "id": "84f12ec6-f5ac-45cf-aa02-afbbad5af30f",
   "metadata": {},
   "outputs": [],
   "source": [
    "def create_model(my_learning_rate, feature_layer):\n",
    "  \"\"\"Create and compile a simple linear regression model.\"\"\"\n",
    "  # Most simple tf.keras models are sequential.\n",
    "  model = tf.keras.models.Sequential()\n",
    "\n",
    "  # Add the layer containing the feature columns to the model.\n",
    "  model.add(feature_layer)\n",
    "\n",
    "  # Add one linear layer to the model to yield a simple linear regressor.\n",
    "  model.add(tf.keras.layers.Dense(units=1, input_shape=(1,)))\n",
    "\n",
    "  # Construct the layers into a model that TensorFlow can execute.\n",
    "  model.compile(optimizer=tf.keras.optimizers.experimental.RMSprop(learning_rate=my_learning_rate),\n",
    "                loss=\"mean_squared_error\",\n",
    "                metrics=[tf.keras.metrics.MeanSquaredError()])\n",
    "\n",
    "  return model           \n"
   ]
  },
  {
   "cell_type": "code",
   "execution_count": 21,
   "id": "a22d1b06-13af-4766-94bd-d9ad0bbc3aba",
   "metadata": {},
   "outputs": [
    {
     "name": "stdout",
     "output_type": "stream",
     "text": [
      "The create_model and the train_model functions are set.\n"
     ]
    }
   ],
   "source": [
    "def train_model(model, dataset, epochs, batch_size, target_name):\n",
    "  \"\"\"Feed a dataset into the model in order to train it.\"\"\"\n",
    "\n",
    "  # Split the dataset into features and label.\n",
    "  features = {name:np.array(value) for name, value in dataset.items()}\n",
    "  label = np.array(features.pop(target_name))\n",
    "  history = model.fit(x=features, y=label, batch_size=batch_size,\n",
    "                      epochs=epochs, shuffle=True)\n",
    "\n",
    "  # Get details that will be useful for plotting the loss curve. => hier I define the hypoparamateres of the model. \n",
    "    # Epoch = complete cycle of a backward and forward propagation\n",
    "    # Batches = subsamples of my inputs => FW and BW on the 1. block and get a result\n",
    "  epochs = history.epoch\n",
    "  hist = pd.DataFrame(history.history)\n",
    "  rmse = hist[\"mean_squared_error\"]\n",
    "\n",
    "  return epochs, rmse   \n",
    "\n",
    "print(\"The create_model and the train_model functions are set.\")"
   ]
  },
  {
   "cell_type": "markdown",
   "id": "6fbc5db3-30e5-4133-a9f4-a5abc6ec3578",
   "metadata": {},
   "source": [
    "#### Define the lost function plot"
   ]
  },
  {
   "cell_type": "code",
   "execution_count": 22,
   "id": "b8758e4f-578c-4794-a4e5-7211bca60af9",
   "metadata": {},
   "outputs": [
    {
     "name": "stdout",
     "output_type": "stream",
     "text": [
      "The plot_the_loss_curve function is correctly defined.\n"
     ]
    }
   ],
   "source": [
    "def plot_the_loss_curve(epochs, mse):\n",
    "  \"\"\"Plot a curve of loss vs. epoch.\"\"\"\n",
    "\n",
    "  plt.figure()\n",
    "  plt.xlabel(\"Epoch\")\n",
    "  plt.ylabel(\"Mean Squared Error\")\n",
    "\n",
    "  plt.plot(epochs, mse, label=\"Loss\")\n",
    "  plt.legend()\n",
    "  plt.ylim([mse.min()*0.95, mse.max() * 1.05])\n",
    "  plt.show()  \n",
    "\n",
    "print(\"The plot_the_loss_curve function is correctly defined.\")"
   ]
  },
  {
   "cell_type": "code",
   "execution_count": 23,
   "id": "f025f047-354f-41d0-850c-bfe0a8df56d6",
   "metadata": {},
   "outputs": [
    {
     "name": "stdout",
     "output_type": "stream",
     "text": [
      "Epoch 1/20\n",
      "WARNING:tensorflow:Layers in a Sequential model should only have a single input tensor. Received: inputs={'rating': <tf.Tensor 'IteratorGetNext:3' shape=(None,) dtype=float32>, 'num_ratings': <tf.Tensor 'IteratorGetNext:2' shape=(None,) dtype=float32>, 'booktype': <tf.Tensor 'IteratorGetNext:1' shape=(None,) dtype=float32>, 'age': <tf.Tensor 'IteratorGetNext:0' shape=(None,) dtype=float32>}. Consider rewriting this model with the Functional API.\n",
      "WARNING:tensorflow:Layers in a Sequential model should only have a single input tensor. Received: inputs={'rating': <tf.Tensor 'IteratorGetNext:3' shape=(None,) dtype=float32>, 'num_ratings': <tf.Tensor 'IteratorGetNext:2' shape=(None,) dtype=float32>, 'booktype': <tf.Tensor 'IteratorGetNext:1' shape=(None,) dtype=float32>, 'age': <tf.Tensor 'IteratorGetNext:0' shape=(None,) dtype=float32>}. Consider rewriting this model with the Functional API.\n",
      "1/1 [==============================] - 1s 576ms/step - loss: 1.4580 - mean_squared_error: 1.4580\n",
      "Epoch 2/20\n",
      "1/1 [==============================] - 0s 6ms/step - loss: 1.3610 - mean_squared_error: 1.3610\n",
      "Epoch 3/20\n",
      "1/1 [==============================] - 0s 7ms/step - loss: 1.2973 - mean_squared_error: 1.2973\n",
      "Epoch 4/20\n",
      "1/1 [==============================] - 0s 8ms/step - loss: 1.2475 - mean_squared_error: 1.2475\n",
      "Epoch 5/20\n",
      "1/1 [==============================] - 0s 11ms/step - loss: 1.2058 - mean_squared_error: 1.2058\n",
      "Epoch 6/20\n",
      "1/1 [==============================] - 0s 13ms/step - loss: 1.1701 - mean_squared_error: 1.1701\n",
      "Epoch 7/20\n",
      "1/1 [==============================] - 0s 6ms/step - loss: 1.1371 - mean_squared_error: 1.1371\n",
      "Epoch 8/20\n",
      "1/1 [==============================] - 0s 7ms/step - loss: 1.1078 - mean_squared_error: 1.1078\n",
      "Epoch 9/20\n",
      "1/1 [==============================] - 0s 9ms/step - loss: 1.0808 - mean_squared_error: 1.0808\n",
      "Epoch 10/20\n",
      "1/1 [==============================] - 0s 9ms/step - loss: 1.0559 - mean_squared_error: 1.0559\n",
      "Epoch 11/20\n",
      "1/1 [==============================] - 0s 8ms/step - loss: 1.0326 - mean_squared_error: 1.0326\n",
      "Epoch 12/20\n",
      "1/1 [==============================] - 0s 6ms/step - loss: 1.0108 - mean_squared_error: 1.0108\n",
      "Epoch 13/20\n",
      "1/1 [==============================] - 0s 7ms/step - loss: 0.9903 - mean_squared_error: 0.9903\n",
      "Epoch 14/20\n",
      "1/1 [==============================] - 0s 6ms/step - loss: 0.9708 - mean_squared_error: 0.9708\n",
      "Epoch 15/20\n",
      "1/1 [==============================] - 0s 7ms/step - loss: 0.9524 - mean_squared_error: 0.9524\n",
      "Epoch 16/20\n",
      "1/1 [==============================] - 0s 11ms/step - loss: 0.9349 - mean_squared_error: 0.9349\n",
      "Epoch 17/20\n",
      "1/1 [==============================] - 0s 11ms/step - loss: 0.9182 - mean_squared_error: 0.9182\n",
      "Epoch 18/20\n",
      "1/1 [==============================] - 0s 5ms/step - loss: 0.9024 - mean_squared_error: 0.9024\n",
      "Epoch 19/20\n",
      "1/1 [==============================] - 0s 7ms/step - loss: 0.8872 - mean_squared_error: 0.8872\n",
      "Epoch 20/20\n",
      "1/1 [==============================] - 0s 8ms/step - loss: 0.8727 - mean_squared_error: 0.8727\n"
     ]
    },
    {
     "data": {
      "image/png": "[encoded data removed]",
      "text/plain": [
       "<Figure size 640x480 with 1 Axes>"
      ]
     },
     "metadata": {},
     "output_type": "display_data"
    },
    {
     "name": "stdout",
     "output_type": "stream",
     "text": [
      "\n",
      " Evaluate the linear regression model against the test set:\n",
      "WARNING:tensorflow:Layers in a Sequential model should only have a single input tensor. Received: inputs={'rating': <tf.Tensor 'IteratorGetNext:3' shape=(None,) dtype=float32>, 'num_ratings': <tf.Tensor 'IteratorGetNext:2' shape=(None,) dtype=float32>, 'booktype': <tf.Tensor 'IteratorGetNext:1' shape=(None,) dtype=float32>, 'age': <tf.Tensor 'IteratorGetNext:0' shape=(None,) dtype=float32>}. Consider rewriting this model with the Functional API.\n",
      "1/1 [==============================] - 0s 194ms/step - loss: 0.7275 - mean_squared_error: 0.7275\n"
     ]
    },
    {
     "data": {
      "text/plain": [
       "[0.7275322079658508, 0.7275322079658508]"
      ]
     },
     "execution_count": 23,
     "metadata": {},
     "output_type": "execute_result"
    }
   ],
   "source": [
    "learning_rate = 0.01\n",
    "epochs = 20 \n",
    "batch_size = 1000\n",
    "\n",
    "# Here we define the target.\n",
    "target_name = \"price\"\n",
    "\n",
    "# Establish the model's topography.\n",
    "my_model = create_model(learning_rate, my_feature_layer)\n",
    "\n",
    "# Train the model on the normalized training set.\n",
    "epochs, mse = train_model(my_model, train_data_stand, epochs, batch_size, target_name)\n",
    "plot_the_loss_curve(epochs, mse)\n",
    "\n",
    "test_features = {name:np.array(value) for name, value in test_data_stand.items()}\n",
    "test_label = np.array(test_features.pop(target_name)) # isolate the label\n",
    "print(\"\\n Evaluate the linear regression model against the test set:\")\n",
    "my_model.evaluate(x = test_features, y = test_label, batch_size=batch_size)"
   ]
  },
  {
   "cell_type": "markdown",
   "id": "02fd7ed2-a257-4665-aa25-99c7be13696b",
   "metadata": {},
   "source": [
    "## Define a (deep) neural network model"
   ]
  },
  {
   "cell_type": "code",
   "execution_count": 25,
   "id": "9438e44f-ac8b-4ec2-9319-e8ded257fce9",
   "metadata": {},
   "outputs": [],
   "source": [
    "def create_model(my_learning_rate, my_feature_layer):\n",
    "  \"\"\"Create and compile a simple network.\"\"\"\n",
    "  # Most simple tf.keras models are sequential.\n",
    "  model = tf.keras.models.Sequential()\n",
    "\n",
    "  # Add the layer containing the feature columns to the model.\n",
    "  model.add(my_feature_layer)\n",
    "\n",
    "  # Describe the topography of the model by calling the tf.keras.layers.Dense\n",
    "  # method once for each layer.\n",
    "  #   * units specifies the number of nodes in this layer.\n",
    "  #   * activation specifies the activation function (Rectified Linear Unit, \n",
    "  #     relu, here).\n",
    "  #   * name is just a string that can be useful when debugging.\n",
    "\n",
    "  # Define the first hidden layer with 15 nodes.\n",
    "  model.add(tf.keras.layers.Dense(units=15, \n",
    "                                  activation='relu', \n",
    "                                  name='Hidden1'))\n",
    "\n",
    "  # Define the second hidden layer with 7 nodes (i.e., 15/2)\n",
    "  model.add(tf.keras.layers.Dense(units=7, \n",
    "                                  activation='relu', \n",
    "                                  name='Hidden2'))\n",
    "\n",
    "  # Define the output layer.\n",
    "  model.add(tf.keras.layers.Dense(units=1,  \n",
    "                                  name='Output'))                              \n",
    "  \n",
    "  model.compile(optimizer=tf.keras.optimizers.Adam(learning_rate=my_learning_rate),\n",
    "                loss=\"mean_squared_error\",\n",
    "                metrics=[tf.keras.metrics.MeanSquaredError()])\n",
    "\n",
    "  return model"
   ]
  },
  {
   "cell_type": "markdown",
   "id": "37f21627-40d5-4530-a7a7-3e667bde5f0e",
   "metadata": {},
   "source": [
    "## Training function"
   ]
  },
  {
   "cell_type": "code",
   "execution_count": 26,
   "id": "fbd3a98b-9fc3-44b3-bf75-4f6145a9abd8",
   "metadata": {},
   "outputs": [],
   "source": [
    "def train_model(model, dataset, epochs, target_name,\n",
    "                batch_size=None):\n",
    "  \"\"\"Train the model by feeding it data.\"\"\"\n",
    "\n",
    "  # Split the dataset into features and label.\n",
    "  features = {name:np.array(value) for name, value in dataset.items()}\n",
    "  label = np.array(features.pop(target_name))\n",
    "  history = model.fit(x=features, y=label, batch_size=batch_size,\n",
    "                      epochs=epochs, shuffle=True) \n",
    "\n",
    "  # The list of epochs is stored separately from the rest of history.\n",
    "  epochs = history.epoch\n",
    "  \n",
    "  # To track the progression of training, gather a snapshot\n",
    "  # of the model's mean squared error at each epoch. \n",
    "  hist = pd.DataFrame(history.history)\n",
    "  mse = hist[\"mean_squared_error\"]\n",
    "\n",
    "  return epochs, mse"
   ]
  },
  {
   "cell_type": "markdown",
   "id": "9629d15f-c925-4ffb-911e-e5e42ab4b8df",
   "metadata": {},
   "source": [
    "## Call the functions to build and train a (deep) neural net"
   ]
  },
  {
   "cell_type": "code",
   "execution_count": 29,
   "id": "b9d49427-4371-488f-83d3-de9229bb3b1d",
   "metadata": {},
   "outputs": [
    {
     "name": "stdout",
     "output_type": "stream",
     "text": [
      "Epoch 1/20\n",
      "WARNING:tensorflow:Layers in a Sequential model should only have a single input tensor. Received: inputs={'rating': <tf.Tensor 'IteratorGetNext:3' shape=(None,) dtype=float32>, 'num_ratings': <tf.Tensor 'IteratorGetNext:2' shape=(None,) dtype=float32>, 'booktype': <tf.Tensor 'IteratorGetNext:1' shape=(None,) dtype=float32>, 'age': <tf.Tensor 'IteratorGetNext:0' shape=(None,) dtype=float32>}. Consider rewriting this model with the Functional API.\n",
      "WARNING:tensorflow:Layers in a Sequential model should only have a single input tensor. Received: inputs={'rating': <tf.Tensor 'IteratorGetNext:3' shape=(None,) dtype=float32>, 'num_ratings': <tf.Tensor 'IteratorGetNext:2' shape=(None,) dtype=float32>, 'booktype': <tf.Tensor 'IteratorGetNext:1' shape=(None,) dtype=float32>, 'age': <tf.Tensor 'IteratorGetNext:0' shape=(None,) dtype=float32>}. Consider rewriting this model with the Functional API.\n",
      "1/1 [==============================] - 1s 906ms/step - loss: 1.4392 - mean_squared_error: 1.4392\n",
      "Epoch 2/20\n",
      "1/1 [==============================] - 0s 9ms/step - loss: 1.2511 - mean_squared_error: 1.2511\n",
      "Epoch 3/20\n",
      "1/1 [==============================] - 0s 9ms/step - loss: 1.1301 - mean_squared_error: 1.1301\n",
      "Epoch 4/20\n",
      "1/1 [==============================] - 0s 9ms/step - loss: 1.0419 - mean_squared_error: 1.0419\n",
      "Epoch 5/20\n",
      "1/1 [==============================] - 0s 8ms/step - loss: 0.9629 - mean_squared_error: 0.9629\n",
      "Epoch 6/20\n",
      "1/1 [==============================] - 0s 8ms/step - loss: 0.8946 - mean_squared_error: 0.8946\n",
      "Epoch 7/20\n",
      "1/1 [==============================] - 0s 12ms/step - loss: 0.8367 - mean_squared_error: 0.8367\n",
      "Epoch 8/20\n",
      "1/1 [==============================] - 0s 8ms/step - loss: 0.7924 - mean_squared_error: 0.7924\n",
      "Epoch 9/20\n",
      "1/1 [==============================] - 0s 6ms/step - loss: 0.7589 - mean_squared_error: 0.7589\n",
      "Epoch 10/20\n",
      "1/1 [==============================] - 0s 8ms/step - loss: 0.7327 - mean_squared_error: 0.7327\n",
      "Epoch 11/20\n",
      "1/1 [==============================] - 0s 10ms/step - loss: 0.7085 - mean_squared_error: 0.7085\n",
      "Epoch 12/20\n",
      "1/1 [==============================] - 0s 7ms/step - loss: 0.6876 - mean_squared_error: 0.6876\n",
      "Epoch 13/20\n",
      "1/1 [==============================] - 0s 7ms/step - loss: 0.6686 - mean_squared_error: 0.6686\n",
      "Epoch 14/20\n",
      "1/1 [==============================] - 0s 9ms/step - loss: 0.6540 - mean_squared_error: 0.6540\n",
      "Epoch 15/20\n",
      "1/1 [==============================] - 0s 8ms/step - loss: 0.6428 - mean_squared_error: 0.6428\n",
      "Epoch 16/20\n",
      "1/1 [==============================] - 0s 6ms/step - loss: 0.6339 - mean_squared_error: 0.6339\n",
      "Epoch 17/20\n",
      "1/1 [==============================] - 0s 8ms/step - loss: 0.6269 - mean_squared_error: 0.6269\n",
      "Epoch 18/20\n",
      "1/1 [==============================] - 0s 7ms/step - loss: 0.6213 - mean_squared_error: 0.6213\n",
      "Epoch 19/20\n",
      "1/1 [==============================] - 0s 8ms/step - loss: 0.6165 - mean_squared_error: 0.6165\n",
      "Epoch 20/20\n",
      "1/1 [==============================] - 0s 7ms/step - loss: 0.6122 - mean_squared_error: 0.6122\n"
     ]
    },
    {
     "data": {
      "image/png": "[encoded data removed]",
      "text/plain": [
       "<Figure size 640x480 with 1 Axes>"
      ]
     },
     "metadata": {},
     "output_type": "display_data"
    },
    {
     "name": "stdout",
     "output_type": "stream",
     "text": [
      "\n",
      " Evaluate the new model against the test set:\n",
      "WARNING:tensorflow:Layers in a Sequential model should only have a single input tensor. Received: inputs={'rating': <tf.Tensor 'IteratorGetNext:3' shape=(None,) dtype=float32>, 'num_ratings': <tf.Tensor 'IteratorGetNext:2' shape=(None,) dtype=float32>, 'booktype': <tf.Tensor 'IteratorGetNext:1' shape=(None,) dtype=float32>, 'age': <tf.Tensor 'IteratorGetNext:0' shape=(None,) dtype=float32>}. Consider rewriting this model with the Functional API.\n",
      "1/1 [==============================] - 0s 185ms/step - loss: 0.4434 - mean_squared_error: 0.4434\n"
     ]
    },
    {
     "data": {
      "text/plain": [
       "[0.4433952569961548, 0.4433952569961548]"
      ]
     },
     "execution_count": 29,
     "metadata": {},
     "output_type": "execute_result"
    }
   ],
   "source": [
    "# The following variables are the hyperparameters.\n",
    "learning_rate = 0.01\n",
    "epochs = 20\n",
    "batch_size = 1000\n",
    "\n",
    "# Recall:\n",
    "# The batch size is a hyperparameter that controls the number of training \n",
    "# samples to work through before the model’s internal parameters are updated.\n",
    "# The number of epochs is a hyperparameter that controls the number of complete \n",
    "# passes through the training dataset.\n",
    "\n",
    "# Specify the label\n",
    "target_name = \"price\"\n",
    "\n",
    "# Establish the model's topography.\n",
    "my_model = create_model(learning_rate, my_feature_layer)\n",
    "\n",
    "# Train the model on the standardized training set. We're passing the entire\n",
    "# normalized training set, but the model will only use the features\n",
    "# defined by the feature_layer.\n",
    "epochs, mse = train_model(my_model, train_data_stand, epochs, \n",
    "                          target_name, batch_size)\n",
    "plot_the_loss_curve(epochs, mse)\n",
    "\n",
    "# After building a model against the training set, test that model\n",
    "# against the test set.\n",
    "test_features = {name:np.array(value) for name, value in test_data_stand.items()}\n",
    "test_target = np.array(test_features.pop(target_name)) # isolate the target\n",
    "print(\"\\n Evaluate the new model against the test set:\")\n",
    "my_model.evaluate(x = test_features, y = test_target, batch_size=batch_size)"
   ]
  },
  {
   "cell_type": "markdown",
   "id": "360f80ba-85a1-4dd5-a98a-0aa71dd9e14e",
   "metadata": {},
   "source": [
    "## Let us compare the two models"
   ]
  },
  {
   "cell_type": "markdown",
   "id": "0b7e9c86-e7f9-43c8-8dc4-6af72ce8a4c7",
   "metadata": {},
   "source": [
    "The loss function of the NN model is 0,443, which is lower than the loss of the linear modell, which is 0,7275. That means, the NN model makes a better prediction. "
   ]
  }
 ],
 "metadata": {
  "kernelspec": {
   "display_name": "Python 3 (ipykernel)",
   "language": "python",
   "name": "python3"
  },
  "language_info": {
   "codemirror_mode": {
    "name": "ipython",
    "version": 3
   },
   "file_extension": ".py",
   "mimetype": "text/x-python",
   "name": "python",
   "nbconvert_exporter": "python",
   "pygments_lexer": "ipython3",
   "version": "3.9.13"
  }
 },
 "nbformat": 4,
 "nbformat_minor": 5
}
