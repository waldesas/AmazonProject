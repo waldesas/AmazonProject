{
 "cells": [
  {
   "cell_type": "markdown",
   "id": "a694e1f5-d7e8-4951-87db-614992d0fbcc",
   "metadata": {},
   "source": [
    "# Deep Learning (RNN-LSTM):"
   ]
  },
  {
   "cell_type": "code",
   "execution_count": 1,
   "id": "db2560ab-33c5-4393-9560-3d564898cb39",
   "metadata": {},
   "outputs": [],
   "source": [
    "import numpy as np\n",
    "import pandas as pd\n",
    "from keras.models import Sequential\n",
    "from keras.layers import Dense, LSTM\n",
    "import datetime as datetime\n",
    "import time\n",
    "from sklearn.model_selection import train_test_split\n",
    "from sklearn.preprocessing import MinMaxScaler"
   ]
  },
  {
   "cell_type": "markdown",
   "id": "9cad1d19-2154-4d28-8ce1-5655b6fa42a9",
   "metadata": {},
   "source": [
    "## Prepare the data:"
   ]
  },
  {
   "cell_type": "code",
   "execution_count": 2,
   "id": "63a18d36-fc6f-46e2-9917-1d9ea6547821",
   "metadata": {},
   "outputs": [],
   "source": [
    "train = pd.read_csv('cleanbooksdata.csv')"
   ]
  },
  {
   "cell_type": "code",
   "execution_count": 3,
   "id": "baf9a2e1-a795-4702-9643-e0693a38ad39",
   "metadata": {},
   "outputs": [],
   "source": [
    "# Bleibt: rating, num_ratings, price, type, das Jahr\n",
    "train = train.drop(['title', 'currency', 'author'], axis=1)\n",
    "train = train.drop(train.columns[0], axis=1)"
   ]
  },
  {
   "cell_type": "code",
   "execution_count": 4,
   "id": "fc68c620-9f70-4eda-aadd-749f7bf3d481",
   "metadata": {},
   "outputs": [
    {
     "data": {
      "text/html": [
       "<div>\n",
       "<style scoped>\n",
       "    .dataframe tbody tr th:only-of-type {\n",
       "        vertical-align: middle;\n",
       "    }\n",
       "\n",
       "    .dataframe tbody tr th {\n",
       "        vertical-align: top;\n",
       "    }\n",
       "\n",
       "    .dataframe thead th {\n",
       "        text-align: right;\n",
       "    }\n",
       "</style>\n",
       "<table border=\"1\" class=\"dataframe\">\n",
       "  <thead>\n",
       "    <tr style=\"text-align: right;\">\n",
       "      <th></th>\n",
       "      <th>rating</th>\n",
       "      <th>num_ratings</th>\n",
       "      <th>price</th>\n",
       "      <th>date</th>\n",
       "      <th>booktype</th>\n",
       "    </tr>\n",
       "  </thead>\n",
       "  <tbody>\n",
       "    <tr>\n",
       "      <th>0</th>\n",
       "      <td>4.7</td>\n",
       "      <td>67538.0</td>\n",
       "      <td>20.41</td>\n",
       "      <td>10. Dezember 2018</td>\n",
       "      <td>0</td>\n",
       "    </tr>\n",
       "    <tr>\n",
       "      <th>1</th>\n",
       "      <td>4.5</td>\n",
       "      <td>8627.0</td>\n",
       "      <td>11.49</td>\n",
       "      <td>5. Februar 2013</td>\n",
       "      <td>1</td>\n",
       "    </tr>\n",
       "    <tr>\n",
       "      <th>2</th>\n",
       "      <td>4.5</td>\n",
       "      <td>99055.0</td>\n",
       "      <td>12.44</td>\n",
       "      <td>13. September 2016</td>\n",
       "      <td>0</td>\n",
       "    </tr>\n",
       "    <tr>\n",
       "      <th>3</th>\n",
       "      <td>4.6</td>\n",
       "      <td>33078.0</td>\n",
       "      <td>11.49</td>\n",
       "      <td>10. Mai 2012</td>\n",
       "      <td>0</td>\n",
       "    </tr>\n",
       "    <tr>\n",
       "      <th>4</th>\n",
       "      <td>4.6</td>\n",
       "      <td>22039.0</td>\n",
       "      <td>5.69</td>\n",
       "      <td>23. März 2017</td>\n",
       "      <td>0</td>\n",
       "    </tr>\n",
       "    <tr>\n",
       "      <th>...</th>\n",
       "      <td>...</td>\n",
       "      <td>...</td>\n",
       "      <td>...</td>\n",
       "      <td>...</td>\n",
       "      <td>...</td>\n",
       "    </tr>\n",
       "    <tr>\n",
       "      <th>81</th>\n",
       "      <td>4.4</td>\n",
       "      <td>1478.0</td>\n",
       "      <td>10.54</td>\n",
       "      <td>15. April 2019</td>\n",
       "      <td>0</td>\n",
       "    </tr>\n",
       "    <tr>\n",
       "      <th>82</th>\n",
       "      <td>4.3</td>\n",
       "      <td>6049.0</td>\n",
       "      <td>1.98</td>\n",
       "      <td>29. November 2004</td>\n",
       "      <td>0</td>\n",
       "    </tr>\n",
       "    <tr>\n",
       "      <th>83</th>\n",
       "      <td>4.7</td>\n",
       "      <td>24188.0</td>\n",
       "      <td>10.24</td>\n",
       "      <td>4. Januar 2018</td>\n",
       "      <td>0</td>\n",
       "    </tr>\n",
       "    <tr>\n",
       "      <th>84</th>\n",
       "      <td>4.6</td>\n",
       "      <td>37461.0</td>\n",
       "      <td>7.77</td>\n",
       "      <td>22. Mai 2012</td>\n",
       "      <td>0</td>\n",
       "    </tr>\n",
       "    <tr>\n",
       "      <th>85</th>\n",
       "      <td>4.5</td>\n",
       "      <td>13319.0</td>\n",
       "      <td>13.40</td>\n",
       "      <td>12. März 2020</td>\n",
       "      <td>0</td>\n",
       "    </tr>\n",
       "  </tbody>\n",
       "</table>\n",
       "<p>86 rows × 5 columns</p>\n",
       "</div>"
      ],
      "text/plain": [
       "    rating  num_ratings  price                date  booktype\n",
       "0      4.7      67538.0  20.41   10. Dezember 2018         0\n",
       "1      4.5       8627.0  11.49     5. Februar 2013         1\n",
       "2      4.5      99055.0  12.44  13. September 2016         0\n",
       "3      4.6      33078.0  11.49        10. Mai 2012         0\n",
       "4      4.6      22039.0   5.69       23. März 2017         0\n",
       "..     ...          ...    ...                 ...       ...\n",
       "81     4.4       1478.0  10.54      15. April 2019         0\n",
       "82     4.3       6049.0   1.98   29. November 2004         0\n",
       "83     4.7      24188.0  10.24      4. Januar 2018         0\n",
       "84     4.6      37461.0   7.77        22. Mai 2012         0\n",
       "85     4.5      13319.0  13.40       12. März 2020         0\n",
       "\n",
       "[86 rows x 5 columns]"
      ]
     },
     "metadata": {},
     "output_type": "display_data"
    }
   ],
   "source": [
    "#Für die Vorhersage wird 0 und 1 für die Werte gesetzt: Taschenbuch = 0, Gebundenes Buch = 1 \n",
    "train['type'] = train['type'].str.replace('Taschenbuch', '0')\n",
    "train['type'] = train['type'].str.replace('Gebundenes Buch', '1')\n",
    "train['booktype'] = train['type'].astype(object).astype(int)\n",
    "train = train.drop('type', axis=1)\n",
    "display(train)"
   ]
  },
  {
   "cell_type": "code",
   "execution_count": 5,
   "id": "0bc1c49a-af1a-4be0-9684-2105908f1e5b",
   "metadata": {},
   "outputs": [],
   "source": [
    "# Define a list of month names in German\n",
    "month_names = ['Januar', 'Februar', 'März', 'April', 'Mai', 'Juni', \n",
    "               'Juli', 'August', 'September', 'Oktober', 'November', 'Dezember']\n",
    "\n",
    "# Define a function to convert German date string to datetime object\n",
    "def german_date_to_datetime(date_string):\n",
    "    # Split the date string into day, month, and year\n",
    "        day, month_name, year = date_string.split()\n",
    "    # Remove any trailing dot from the day component\n",
    "        day = day.rstrip('.')\n",
    "    # Convert the month name to its corresponding month number\n",
    "        month = month_names.index(month_name) + 1\n",
    "    # Create a datetime object from the day, month, and year\n",
    "        return datetime.datetime(int(year), month, int(day))\n",
    "        \n",
    "\n",
    "# Apply the function to the \"datum\" column of the DataFrame\n",
    "train['date'] = train['date'].apply(german_date_to_datetime)"
   ]
  },
  {
   "cell_type": "code",
   "execution_count": 6,
   "id": "3d311ed8-652f-41e5-a74e-f95a7f7a82e1",
   "metadata": {},
   "outputs": [],
   "source": [
    "train['date'] = train['date'].dt.year"
   ]
  },
  {
   "cell_type": "code",
   "execution_count": 7,
   "id": "6b085091-5405-4996-9686-2103f6a76a64",
   "metadata": {},
   "outputs": [
    {
     "data": {
      "text/html": [
       "<div>\n",
       "<style scoped>\n",
       "    .dataframe tbody tr th:only-of-type {\n",
       "        vertical-align: middle;\n",
       "    }\n",
       "\n",
       "    .dataframe tbody tr th {\n",
       "        vertical-align: top;\n",
       "    }\n",
       "\n",
       "    .dataframe thead th {\n",
       "        text-align: right;\n",
       "    }\n",
       "</style>\n",
       "<table border=\"1\" class=\"dataframe\">\n",
       "  <thead>\n",
       "    <tr style=\"text-align: right;\">\n",
       "      <th></th>\n",
       "      <th>rating</th>\n",
       "      <th>num_ratings</th>\n",
       "      <th>price</th>\n",
       "      <th>date</th>\n",
       "      <th>booktype</th>\n",
       "    </tr>\n",
       "  </thead>\n",
       "  <tbody>\n",
       "    <tr>\n",
       "      <th>0</th>\n",
       "      <td>4.7</td>\n",
       "      <td>67538.0</td>\n",
       "      <td>20.41</td>\n",
       "      <td>2018</td>\n",
       "      <td>0</td>\n",
       "    </tr>\n",
       "    <tr>\n",
       "      <th>1</th>\n",
       "      <td>4.5</td>\n",
       "      <td>8627.0</td>\n",
       "      <td>11.49</td>\n",
       "      <td>2013</td>\n",
       "      <td>1</td>\n",
       "    </tr>\n",
       "    <tr>\n",
       "      <th>2</th>\n",
       "      <td>4.5</td>\n",
       "      <td>99055.0</td>\n",
       "      <td>12.44</td>\n",
       "      <td>2016</td>\n",
       "      <td>0</td>\n",
       "    </tr>\n",
       "    <tr>\n",
       "      <th>3</th>\n",
       "      <td>4.6</td>\n",
       "      <td>33078.0</td>\n",
       "      <td>11.49</td>\n",
       "      <td>2012</td>\n",
       "      <td>0</td>\n",
       "    </tr>\n",
       "    <tr>\n",
       "      <th>4</th>\n",
       "      <td>4.6</td>\n",
       "      <td>22039.0</td>\n",
       "      <td>5.69</td>\n",
       "      <td>2017</td>\n",
       "      <td>0</td>\n",
       "    </tr>\n",
       "    <tr>\n",
       "      <th>...</th>\n",
       "      <td>...</td>\n",
       "      <td>...</td>\n",
       "      <td>...</td>\n",
       "      <td>...</td>\n",
       "      <td>...</td>\n",
       "    </tr>\n",
       "    <tr>\n",
       "      <th>81</th>\n",
       "      <td>4.4</td>\n",
       "      <td>1478.0</td>\n",
       "      <td>10.54</td>\n",
       "      <td>2019</td>\n",
       "      <td>0</td>\n",
       "    </tr>\n",
       "    <tr>\n",
       "      <th>82</th>\n",
       "      <td>4.3</td>\n",
       "      <td>6049.0</td>\n",
       "      <td>1.98</td>\n",
       "      <td>2004</td>\n",
       "      <td>0</td>\n",
       "    </tr>\n",
       "    <tr>\n",
       "      <th>83</th>\n",
       "      <td>4.7</td>\n",
       "      <td>24188.0</td>\n",
       "      <td>10.24</td>\n",
       "      <td>2018</td>\n",
       "      <td>0</td>\n",
       "    </tr>\n",
       "    <tr>\n",
       "      <th>84</th>\n",
       "      <td>4.6</td>\n",
       "      <td>37461.0</td>\n",
       "      <td>7.77</td>\n",
       "      <td>2012</td>\n",
       "      <td>0</td>\n",
       "    </tr>\n",
       "    <tr>\n",
       "      <th>85</th>\n",
       "      <td>4.5</td>\n",
       "      <td>13319.0</td>\n",
       "      <td>13.40</td>\n",
       "      <td>2020</td>\n",
       "      <td>0</td>\n",
       "    </tr>\n",
       "  </tbody>\n",
       "</table>\n",
       "<p>86 rows × 5 columns</p>\n",
       "</div>"
      ],
      "text/plain": [
       "    rating  num_ratings  price  date  booktype\n",
       "0      4.7      67538.0  20.41  2018         0\n",
       "1      4.5       8627.0  11.49  2013         1\n",
       "2      4.5      99055.0  12.44  2016         0\n",
       "3      4.6      33078.0  11.49  2012         0\n",
       "4      4.6      22039.0   5.69  2017         0\n",
       "..     ...          ...    ...   ...       ...\n",
       "81     4.4       1478.0  10.54  2019         0\n",
       "82     4.3       6049.0   1.98  2004         0\n",
       "83     4.7      24188.0  10.24  2018         0\n",
       "84     4.6      37461.0   7.77  2012         0\n",
       "85     4.5      13319.0  13.40  2020         0\n",
       "\n",
       "[86 rows x 5 columns]"
      ]
     },
     "metadata": {},
     "output_type": "display_data"
    }
   ],
   "source": [
    "display(train)"
   ]
  },
  {
   "cell_type": "code",
   "execution_count": 8,
   "id": "669be820-772b-4fcd-836e-daf5bc33ad98",
   "metadata": {},
   "outputs": [],
   "source": [
    "train['age'] = 2023 - (train['date'])\n",
    "train = train.drop(['date'], axis=1)"
   ]
  },
  {
   "cell_type": "code",
   "execution_count": 9,
   "id": "8ff9178f-630a-4b30-8399-18e155d504f3",
   "metadata": {},
   "outputs": [
    {
     "name": "stdout",
     "output_type": "stream",
     "text": [
      "   rating  num_ratings  price  booktype  age\n",
      "0     4.7      67538.0  20.41         0    5\n",
      "1     4.5       8627.0  11.49         1   10\n",
      "2     4.5      99055.0  12.44         0    7\n",
      "3     4.6      33078.0  11.49         0   11\n",
      "4     4.6      22039.0   5.69         0    6\n"
     ]
    }
   ],
   "source": [
    "# Print the first 5 rows of the DataFrame to confirm the conversion\n",
    "print(train.head())"
   ]
  },
  {
   "cell_type": "code",
   "execution_count": 10,
   "id": "736c52af-fe38-4d77-9a1d-677edcd0f66f",
   "metadata": {},
   "outputs": [
    {
     "name": "stdout",
     "output_type": "stream",
     "text": [
      "<class 'pandas.core.frame.DataFrame'>\n",
      "RangeIndex: 86 entries, 0 to 85\n",
      "Data columns (total 5 columns):\n",
      " #   Column       Non-Null Count  Dtype  \n",
      "---  ------       --------------  -----  \n",
      " 0   rating       86 non-null     float64\n",
      " 1   num_ratings  86 non-null     float64\n",
      " 2   price        86 non-null     float64\n",
      " 3   booktype     86 non-null     int32  \n",
      " 4   age          86 non-null     int64  \n",
      "dtypes: float64(3), int32(1), int64(1)\n",
      "memory usage: 3.1 KB\n"
     ]
    }
   ],
   "source": [
    "train.info()"
   ]
  },
  {
   "cell_type": "markdown",
   "id": "b86659d0-5cf7-4547-834e-bf417f315141",
   "metadata": {},
   "source": [
    "## Extract the input and output variables from the DataFrame"
   ]
  },
  {
   "cell_type": "code",
   "execution_count": 11,
   "id": "4670243e-acb5-4388-8227-e064f5b12873",
   "metadata": {},
   "outputs": [],
   "source": [
    "# Extract the input daten:\n",
    "X = train[['rating', 'num_ratings', 'booktype', 'age']].values"
   ]
  },
  {
   "cell_type": "code",
   "execution_count": 12,
   "id": "4a95ebc9-16fc-4d34-aebd-f204ab0f4522",
   "metadata": {},
   "outputs": [],
   "source": [
    "# Extract the output daten:\n",
    "y = train['price'].values"
   ]
  },
  {
   "cell_type": "markdown",
   "id": "0e411b25-85b3-412b-9544-61c99950bad7",
   "metadata": {},
   "source": [
    "## Normalisation"
   ]
  },
  {
   "cell_type": "code",
   "execution_count": 13,
   "id": "29b05a07-ac6a-4a26-bada-89ec17e264c6",
   "metadata": {},
   "outputs": [
    {
     "name": "stdout",
     "output_type": "stream",
     "text": [
      "The data points have been standardized.\n"
     ]
    }
   ],
   "source": [
    "# Daten normalisieren\n",
    "\n",
    "scaler = MinMaxScaler()\n",
    "X = scaler.fit_transform(X)\n",
    "\n",
    "print(\"The data points have been standardized.\")"
   ]
  },
  {
   "cell_type": "markdown",
   "id": "122a569b-ba14-48ff-9e37-48f91e18fda2",
   "metadata": {},
   "source": [
    "## Split the dataset into train and test data"
   ]
  },
  {
   "cell_type": "code",
   "execution_count": 31,
   "id": "b48ef892-e3c8-4d92-bf49-8905daed9ae5",
   "metadata": {},
   "outputs": [
    {
     "data": {
      "text/plain": [
       "(43, 4)"
      ]
     },
     "execution_count": 31,
     "metadata": {},
     "output_type": "execute_result"
    }
   ],
   "source": [
    "#Aufteilen:\n",
    "train_size = int(len(train)*0.5)\n",
    "train_X, train_y = X[:train_size], y[train_size:]\n",
    "test_X, test_y = X[:train_size], y[train_size:]\n",
    "\n",
    "train_X.shape"
   ]
  },
  {
   "cell_type": "code",
   "execution_count": 32,
   "id": "65ae2a34-4e33-4d76-8e18-147df5b88481",
   "metadata": {},
   "outputs": [
    {
     "data": {
      "text/plain": [
       "array([ 8.54, 14.83,  6.44,  9.99,  9.57, 17.62,  9.38, 47.13,  9.09,\n",
       "       25.  , 21.06,  9.47,  9.09,  7.18,  8.71,  8.52, 11.3 ,  9.3 ,\n",
       "       19.46,  7.08,  6.69,  9.47, 10.54, 19.99, 10.19, 22.62,  0.99,\n",
       "       11.49, 18.15, 11.3 ,  5.49, 10.31, 11.45,  6.89,  8.61,  9.  ,\n",
       "        9.31, 11.49, 10.54,  1.98, 10.24,  7.77, 13.4 ])"
      ]
     },
     "execution_count": 32,
     "metadata": {},
     "output_type": "execute_result"
    }
   ],
   "source": [
    "train_y"
   ]
  },
  {
   "cell_type": "code",
   "execution_count": 33,
   "id": "213ddfe4-4330-4040-9334-28972c9b59fe",
   "metadata": {},
   "outputs": [
    {
     "data": {
      "text/plain": [
       "array([[0.85714286, 0.15533067, 0.        , 0.06666667],\n",
       "       [0.57142857, 0.01915773, 1.        , 0.23333333],\n",
       "       [0.57142857, 0.2281823 , 0.        , 0.13333333],\n",
       "       [0.71428571, 0.07567629, 0.        , 0.26666667],\n",
       "       [0.71428571, 0.05015961, 0.        , 0.1       ],\n",
       "       [0.85714286, 0.00760022, 0.        , 0.13333333],\n",
       "       [0.57142857, 0.05273462, 0.        , 0.13333333],\n",
       "       [0.71428571, 0.21993948, 0.        , 0.33333333],\n",
       "       [0.85714286, 0.28572948, 1.        , 0.06666667],\n",
       "       [0.71428571, 0.05399208, 0.        , 0.46666667],\n",
       "       [0.85714286, 0.00490501, 0.        , 0.1       ],\n",
       "       [0.57142857, 0.0397486 , 0.        , 0.6       ],\n",
       "       [0.71428571, 0.2297495 , 0.        , 0.13333333],\n",
       "       [0.85714286, 0.01807364, 1.        , 0.06666667],\n",
       "       [0.42857143, 0.05018735, 0.        , 0.9       ],\n",
       "       [0.42857143, 0.0439278 , 0.        , 0.03333333],\n",
       "       [0.57142857, 0.02929367, 1.        , 0.1       ],\n",
       "       [1.        , 0.0476655 , 1.        , 0.1       ],\n",
       "       [0.42857143, 0.01454166, 0.        , 0.06666667],\n",
       "       [0.85714286, 0.0207388 , 0.        , 0.06666667],\n",
       "       [0.28571429, 0.03827849, 0.        , 0.26666667],\n",
       "       [0.71428571, 0.00635432, 0.        , 0.13333333],\n",
       "       [1.        , 0.0563059 , 1.        , 0.06666667],\n",
       "       [0.71428571, 0.01570897, 0.        , 0.26666667],\n",
       "       [0.57142857, 0.01523049, 0.        , 0.4       ],\n",
       "       [0.85714286, 0.0174218 , 1.        , 0.        ],\n",
       "       [0.42857143, 0.04594112, 0.        , 0.3       ],\n",
       "       [0.28571429, 0.01245207, 0.        , 0.4       ],\n",
       "       [1.        , 0.02220198, 0.        , 0.56666667],\n",
       "       [0.85714286, 0.0123388 , 0.        , 0.23333333],\n",
       "       [0.85714286, 0.14844702, 0.        , 0.1       ],\n",
       "       [0.71428571, 0.02808476, 1.        , 0.        ],\n",
       "       [0.71428571, 0.01972868, 0.        , 0.66666667],\n",
       "       [0.57142857, 0.01521662, 0.        , 0.16666667],\n",
       "       [0.71428571, 0.15991669, 0.        , 1.        ],\n",
       "       [0.42857143, 0.09184525, 0.        , 0.26666667],\n",
       "       [0.28571429, 0.00544128, 0.        , 0.43333333],\n",
       "       [0.57142857, 0.01603952, 0.        , 0.23333333],\n",
       "       [0.57142857, 0.01275256, 1.        , 0.2       ],\n",
       "       [0.14285714, 0.01433825, 1.        , 0.43333333],\n",
       "       [0.71428571, 0.05660177, 0.        , 0.13333333],\n",
       "       [1.        , 0.00837457, 1.        , 0.06666667],\n",
       "       [0.71428571, 1.        , 0.        , 0.03333333]])"
      ]
     },
     "execution_count": 33,
     "metadata": {},
     "output_type": "execute_result"
    }
   ],
   "source": [
    "train_X"
   ]
  },
  {
   "cell_type": "markdown",
   "id": "c6ddb137-48c0-4384-962a-c64f1370fb3c",
   "metadata": {},
   "source": [
    "## LSTM-Model creation"
   ]
  },
  {
   "cell_type": "code",
   "execution_count": 34,
   "id": "a4c6aada-f90d-480f-9795-aed9ec4ac283",
   "metadata": {},
   "outputs": [],
   "source": [
    "# Erstellen des LSTM-Models:\n",
    "\n",
    "model = Sequential()\n",
    "model.add(LSTM(50, input_shape=(train_X.shape[1], 1)))\n",
    "model.add(Dense(1))"
   ]
  },
  {
   "cell_type": "code",
   "execution_count": 35,
   "id": "11629d80-679a-4a6d-ac13-4320e035e2e4",
   "metadata": {},
   "outputs": [],
   "source": [
    "# Kompilieren des Models\n",
    "model.compile(loss='mean_squared_error', optimizer='adam')"
   ]
  },
  {
   "cell_type": "code",
   "execution_count": 36,
   "id": "87ed79dc-ecec-49a8-af84-925dc7f031ef",
   "metadata": {},
   "outputs": [
    {
     "data": {
      "text/plain": [
       "<keras.callbacks.History at 0x1c5399c9f40>"
      ]
     },
     "execution_count": 36,
     "metadata": {},
     "output_type": "execute_result"
    }
   ],
   "source": [
    "# Trainieren des Models\n",
    "\n",
    "model.fit(train_X.reshape((train_X.shape[0], train_X.shape[1], 1)), train_y, epochs=50, batch_size=10, verbose=0)"
   ]
  },
  {
   "cell_type": "code",
   "execution_count": 37,
   "id": "039238de-5ed6-46ac-8f72-767590067456",
   "metadata": {},
   "outputs": [
    {
     "name": "stdout",
     "output_type": "stream",
     "text": [
      "2/2 [==============================] - 0s 4ms/step - loss: 52.6407\n"
     ]
    }
   ],
   "source": [
    "# Evaluieren des Models besierend auf den Testdaten\n",
    "test_loss = model.evaluate(test_X, test_y)"
   ]
  },
  {
   "cell_type": "code",
   "execution_count": 38,
   "id": "87f8fbda-424a-4992-bc74-39318eb39d25",
   "metadata": {},
   "outputs": [],
   "source": [
    "# Verwendung von dem, um Vorhersagen zu erstellen\n",
    "#predictions = model.predict(test_X)"
   ]
  },
  {
   "cell_type": "code",
   "execution_count": 39,
   "id": "e20cdd39-b134-4d58-b5ca-e7d9fdb42ea4",
   "metadata": {},
   "outputs": [
    {
     "name": "stdout",
     "output_type": "stream",
     "text": [
      "2/2 [==============================] - 0s 3ms/step\n"
     ]
    }
   ],
   "source": [
    "# Vorhersage auf Testdaten\n",
    "\n",
    "X_test_norm = scaler.transform(test_X)\n",
    "y_pred = model.predict(X_test_norm.reshape((X_test_norm.shape[0], X_test_norm.shape[1], 1)))\n"
   ]
  },
  {
   "cell_type": "code",
   "execution_count": 40,
   "id": "4368f8bc-8b2a-42fc-9037-9cede1d7ac50",
   "metadata": {},
   "outputs": [
    {
     "name": "stdout",
     "output_type": "stream",
     "text": [
      "MSE: 232.715\n"
     ]
    }
   ],
   "source": [
    "# Bewertung des Modells\n",
    "\n",
    "from sklearn.metrics import mean_squared_error\n",
    "mse = mean_squared_error(test_y, y_pred)\n",
    "\n",
    "print('MSE: %.3f' % mse)"
   ]
  },
  {
   "cell_type": "code",
   "execution_count": null,
   "id": "4ffda816-1d2b-41b2-80d8-1d3ba245cfcf",
   "metadata": {},
   "outputs": [],
   "source": []
  }
 ],
 "metadata": {
  "kernelspec": {
   "display_name": "Python 3 (ipykernel)",
   "language": "python",
   "name": "python3"
  },
  "language_info": {
   "codemirror_mode": {
    "name": "ipython",
    "version": 3
   },
   "file_extension": ".py",
   "mimetype": "text/x-python",
   "name": "python",
   "nbconvert_exporter": "python",
   "pygments_lexer": "ipython3",
   "version": "3.9.13"
  }
 },
 "nbformat": 4,
 "nbformat_minor": 5
}
